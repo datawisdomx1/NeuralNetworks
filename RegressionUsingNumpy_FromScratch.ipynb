{
 "cells": [
  {
   "cell_type": "code",
   "execution_count": null,
   "metadata": {},
   "outputs": [],
   "source": [
    "# Implement logistic regression and linear regression from scratch using numpy and train/test/predict model"
   ]
  },
  {
   "cell_type": "code",
   "execution_count": 1,
   "metadata": {},
   "outputs": [],
   "source": [
    "import numpy as np\n",
    "import scipy\n",
    "from sklearn.metrics import accuracy_score\n",
    "from sklearn.metrics import r2_score, mean_squared_error\n",
    "import matplotlib.pyplot as plt\n",
    "%matplotlib inline"
   ]
  },
  {
   "cell_type": "code",
   "execution_count": 2,
   "metadata": {},
   "outputs": [
    {
     "name": "stdout",
     "output_type": "stream",
     "text": [
      "X:  (569, 30)\n",
      "y:  (569, 1)\n",
      "m:  569\n",
      "n:  30\n",
      "features:  ['mean radius' 'mean texture' 'mean perimeter' 'mean area'\n",
      " 'mean smoothness' 'mean compactness' 'mean concavity'\n",
      " 'mean concave points' 'mean symmetry' 'mean fractal dimension'\n",
      " 'radius error' 'texture error' 'perimeter error' 'area error'\n",
      " 'smoothness error' 'compactness error' 'concavity error'\n",
      " 'concave points error' 'symmetry error' 'fractal dimension error'\n",
      " 'worst radius' 'worst texture' 'worst perimeter' 'worst area'\n",
      " 'worst smoothness' 'worst compactness' 'worst concavity'\n",
      " 'worst concave points' 'worst symmetry' 'worst fractal dimension']\n"
     ]
    }
   ],
   "source": [
    "\n",
    "# read the breast cancer dataset from sklearn\n",
    "from sklearn.datasets import load_breast_cancer\n",
    "\n",
    "dataset = load_breast_cancer()\n",
    "\n",
    "# feature matrix X: mxn\n",
    "X = dataset.data\n",
    "print (\"X: \", X.shape)\n",
    "\n",
    "# target vector y: mx1\n",
    "y = dataset.target\n",
    "y = y.reshape(y.shape[0], 1)\n",
    "print (\"y: \", y.shape)\n",
    "\n",
    "# number of samples: m\n",
    "m = X.shape[0]\n",
    "print (\"m: \", m)\n",
    "\n",
    "# number of features: n\n",
    "n = X.shape[1]\n",
    "features = dataset.feature_names\n",
    "print (\"n: \",n)\n",
    "print (\"features: \", features)"
   ]
  },
  {
   "cell_type": "code",
   "execution_count": 3,
   "metadata": {},
   "outputs": [
    {
     "name": "stdout",
     "output_type": "stream",
     "text": [
      "accuracy score: 0.92\n"
     ]
    },
    {
     "data": {
      "image/png": "[encoded data removed]",
      "text/plain": [
       "<Figure size 432x288 with 1 Axes>"
      ]
     },
     "metadata": {
      "needs_background": "light"
     },
     "output_type": "display_data"
    }
   ],
   "source": [
    "\n",
    "# train the logistic regression model\n",
    "\n",
    "# initialize nepochs, alpha and eps\n",
    "nepochs = 5000\n",
    "alpha = 2.5e-6\n",
    "eps=1e-8\n",
    "\n",
    "# initialize w and b\n",
    "w = np.zeros((n,1))\n",
    "b = 0\n",
    "\n",
    "# this list will collect loss for each iteration\n",
    "costs = []\n",
    "\n",
    "# repeat for nepochs\n",
    "for epoch in range(nepochs):\n",
    "            \n",
    "    # forward pass (calculate current loss)\n",
    "    z = np.dot(X,w) + b\n",
    "    yh = 1/(1+np.exp(-z))\n",
    "    J = (-1/m) * (np.dot(y.T,np.log(yh)) + np.dot(1-y.T, np.log(1-yh)))\n",
    "    \n",
    "    # backward propagation (calculate current gradient)\n",
    "    dJ_dw = (1/m) * (np.dot(X.T,(yh - y)))\n",
    "    dJ_db = (1/m) * np.sum((yh - y), axis=0, keepdims=True)\n",
    "    \n",
    "    # gradient descent (update parameters)\n",
    "    w = w - alpha * dJ_dw\n",
    "    b = b - alpha * dJ_db\n",
    "    \n",
    "    # append loss to costs (remember to squeeze J!)\n",
    "    costs.append(np.squeeze(J))\n",
    "\n",
    "# use final parameters w and b to calcualte accuracy for training data X, y\n",
    "#  - do a single forward pass for X: calcualte z, yhat\n",
    "#  - set yhat to round(yhat) (that is, thresholding binary classification prediction at 0.5)\n",
    "#  - calcualte accuracy_score(y, yhat) and print it\n",
    "z = np.dot(X,w) + b\n",
    "yhat = 1/(1+np.exp(-z))\n",
    "yhat = [1 if a > 0.5 else 0 for a in yhat]\n",
    "print('accuracy score: %.2f'%(accuracy_score(y,yhat)))\n",
    "\n",
    "\n",
    "# plot the costs against iterations and show plot\n",
    "ne = list(range(nepochs))\n",
    "plt.plot(costs, ne)\n",
    "plt.title('Logistic Regression - Cost vs epochs')\n",
    "plt.xlabel('Cost')\n",
    "plt.ylabel('Epoch')\n",
    "plt.show()"
   ]
  },
  {
   "cell_type": "code",
   "execution_count": 4,
   "metadata": {},
   "outputs": [
    {
     "name": "stdout",
     "output_type": "stream",
     "text": [
      "0.92\n"
     ]
    }
   ],
   "source": [
    "# compare results from your implementation to that of SGDClassifier\n",
    "\n",
    "nepochs = 5000\n",
    "alpha = 2.5e-6\n",
    "y = y.reshape(y.shape[0],) # to avoid warning\n",
    "\n",
    "from sklearn.linear_model import SGDClassifier\n",
    "clf = SGDClassifier(loss='log', # loss function for logistic regression\n",
    "                    penalty=None, alpha=0, # no regularization\n",
    "                    max_iter=nepochs, tol=None, # stop based only on nepochs\n",
    "                    shuffle=False, random_state=0, # don't shuffle, use random state to replicate results\n",
    "                    learning_rate='constant', eta0=alpha) # constant learning rate of alpha\n",
    "clf.fit(X,y)\n",
    "print (round(clf.score(X,y),2))"
   ]
  },
  {
   "cell_type": "code",
   "execution_count": 5,
   "metadata": {},
   "outputs": [
    {
     "name": "stdout",
     "output_type": "stream",
     "text": [
      "X:  (442, 10)\n",
      "y:  (442, 1)\n",
      "m:  442\n",
      "n:  10\n",
      "features:  ['age', 'sex', 'bmi', 'bp', 's1', 's2', 's3', 's4', 's5', 's6']\n"
     ]
    }
   ],
   "source": [
    "\n",
    "# read the diabetes dataset from sklearn\n",
    "from sklearn.datasets import load_diabetes\n",
    "\n",
    "dataset = load_diabetes()\n",
    "\n",
    "# feature matrix X: mxn\n",
    "X = dataset.data\n",
    "print (\"X: \", X.shape)\n",
    "\n",
    "# target vector y: mx1\n",
    "y = dataset.target\n",
    "y = y.reshape(y.shape[0], 1)\n",
    "print (\"y: \", y.shape)\n",
    "\n",
    "# number of samples: m\n",
    "m = X.shape[0]\n",
    "print (\"m: \", m)\n",
    "\n",
    "# number of features: n\n",
    "n = X.shape[1]\n",
    "features = dataset.feature_names\n",
    "print (\"n: \",n)\n",
    "print (\"features: \", features)"
   ]
  },
  {
   "cell_type": "code",
   "execution_count": 6,
   "metadata": {},
   "outputs": [
    {
     "name": "stdout",
     "output_type": "stream",
     "text": [
      "Mean Squared Error: 2880.49\n",
      "R2 score: 0.51\n"
     ]
    },
    {
     "data": {
      "image/png": "[encoded data removed]",
      "text/plain": [
       "<Figure size 432x288 with 1 Axes>"
      ]
     },
     "metadata": {
      "needs_background": "light"
     },
     "output_type": "display_data"
    }
   ],
   "source": [
    "# train the linear regression model\n",
    "\n",
    "# initialize nepochs and alpha\n",
    "nepochs = 5000\n",
    "alpha = 0.5\n",
    "\n",
    "# initialize w and b\n",
    "w = np.zeros((n,1))\n",
    "b = 0\n",
    "\n",
    "# this list will collect loss for each iteration\n",
    "costs = []\n",
    "\n",
    "# repeat for nepochs\n",
    "for epoch in range(nepochs):\n",
    "        \n",
    "    # forward pass (calculate current loss)\n",
    "    z = np.dot(X,w) + b\n",
    "    yh = z\n",
    "    J = (1/(2*m)) * np.dot(np.transpose(yh-y),(yh-y))\n",
    "    \n",
    "    # backward propagation (calculate current gradient)\n",
    "    dJ_dw = (1/m) * (np.dot(X.T,(yh - y)))\n",
    "    dJ_db = (1/m) * np.sum((yh - y), axis=0, keepdims=True)\n",
    "    \n",
    "    # gradient descent (update parameters)\n",
    "    w = w - alpha * dJ_dw\n",
    "    b = b - alpha * dJ_db\n",
    "    \n",
    "    # append loss to costs (remember to squeeze J!)\n",
    "    costs.append(np.squeeze(J))\n",
    "\n",
    "# use final parameters w and b to calcualte mse and r2 for training data X, y\n",
    "#  - do a single forward pass for X: calcualte z, yhat\n",
    "#  - calculate mean_squared_error(y, yhat) and print it\n",
    "#  - calculate r2_score(y, yhat) and print it\n",
    "z = np.dot(X,w) + b\n",
    "yhat = z\n",
    "print('Mean Squared Error: %.2f'%(mean_squared_error(y,yhat)))\n",
    "print('R2 score: %.2f'%(r2_score(y,yhat)))\n",
    "\n",
    "# plot the costs against iterations and show plot\n",
    "ne = list(range(nepochs))\n",
    "plt.plot(costs, ne)\n",
    "plt.title('Linear Regression - Cost vs epochs')\n",
    "plt.xlabel('Cost')\n",
    "plt.ylabel('Epoch')\n",
    "plt.show()"
   ]
  },
  {
   "cell_type": "code",
   "execution_count": 7,
   "metadata": {},
   "outputs": [
    {
     "name": "stdout",
     "output_type": "stream",
     "text": [
      "2922.88\n",
      "0.51\n"
     ]
    },
    {
     "name": "stderr",
     "output_type": "stream",
     "text": [
      "/opt/anaconda3/lib/python3.9/site-packages/sklearn/linear_model/_stochastic_gradient.py:165: FutureWarning: The loss 'squared_loss' was deprecated in v1.0 and will be removed in version 1.2. Use `loss='squared_error'` which is equivalent.\n",
      "  warnings.warn(\n"
     ]
    }
   ],
   "source": [
    "\n",
    "# compare results from our implementation to that of SGDRegressor\n",
    "\n",
    "nepochs = 5000\n",
    "alpha = 0.5\n",
    "y = y.reshape(y.shape[0],) # to avoid warning\n",
    "\n",
    "from sklearn.linear_model import SGDRegressor\n",
    "clf = SGDRegressor(loss='squared_loss', # mse for linear regression\n",
    "                    penalty=None, alpha=0, # no regularization\n",
    "                    max_iter=nepochs, tol=None, # stop based on only on nepochs\n",
    "                    shuffle=False, random_state=0, # don't shuffle, use random state to replicate results\n",
    "                    learning_rate='constant', eta0=alpha) # constant learning rate of alpha\n",
    "clf.fit(X,y)\n",
    "yhat = clf.predict(X)\n",
    "print (round(mean_squared_error(y, yhat),2))\n",
    "print (round(clf.score(X,y),2))"
   ]
  }
 ],
 "metadata": {
  "kernelspec": {
   "display_name": "Python 3 (ipykernel)",
   "language": "python",
   "name": "python3"
  },
  "language_info": {
   "codemirror_mode": {
    "name": "ipython",
    "version": 3
   },
   "file_extension": ".py",
   "mimetype": "text/x-python",
   "name": "python",
   "nbconvert_exporter": "python",
   "pygments_lexer": "ipython3",
   "version": "3.10.13"
  }
 },
 "nbformat": 4,
 "nbformat_minor": 2
}
